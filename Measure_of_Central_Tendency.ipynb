{
 "cells": [
  {
   "cell_type": "code",
   "execution_count": 39,
   "id": "16e4db86-f612-49f1-8376-08e4615b4ff1",
   "metadata": {},
   "outputs": [
    {
     "data": {
      "text/plain": [
       "5.185714285714285"
      ]
     },
     "execution_count": 39,
     "metadata": {},
     "output_type": "execute_result"
    }
   ],
   "source": [
    "import numpy as np\n",
    "Height_data=[5,3,5.4,5.5,5.6,5.8,6]\n",
    "mean_height=np.mean(Height_data)\n",
    "mean_height"
   ]
  },
  {
   "cell_type": "code",
   "execution_count": 40,
   "id": "39ba18a7-7500-4f7f-abf9-fa082240f6fe",
   "metadata": {},
   "outputs": [
    {
     "data": {
      "text/plain": [
       "4.0"
      ]
     },
     "execution_count": 40,
     "metadata": {},
     "output_type": "execute_result"
    }
   ],
   "source": [
    "# Median\n",
    "data=[7,3,1,4,9]\n",
    "median_value=np.median(data)\n",
    "median_value"
   ]
  },
  {
   "cell_type": "code",
   "execution_count": 41,
   "id": "3eaa10d7-7719-46c3-8957-817e67357773",
   "metadata": {},
   "outputs": [
    {
     "data": {
      "text/plain": [
       "5.5"
      ]
     },
     "execution_count": 41,
     "metadata": {},
     "output_type": "execute_result"
    }
   ],
   "source": [
    "# Median\n",
    "Height_data=[5,3,5.4,5.5,5.6,5.8,6] \n",
    "Height_data=np.median(Height_data)\n",
    "Height_data"
   ]
  },
  {
   "cell_type": "code",
   "execution_count": 42,
   "id": "a481dcd4-e29a-4a3a-a2ea-01326e38af0c",
   "metadata": {},
   "outputs": [
    {
     "data": {
      "text/plain": [
       "ModeResult(mode=1, count=5)"
      ]
     },
     "execution_count": 42,
     "metadata": {},
     "output_type": "execute_result"
    }
   ],
   "source": [
    "# Mode\n",
    "from scipy import stats\n",
    "data = [1,0,1,0,1,0,1,0,1]\n",
    "mode_value=stats.mode(data)\n",
    "mode_value"
   ]
  },
  {
   "cell_type": "code",
   "execution_count": 43,
   "id": "3e25b584-1eb3-49f2-9d7e-498aa87f832a",
   "metadata": {},
   "outputs": [],
   "source": [
    "import pandas as pd"
   ]
  },
  {
   "cell_type": "code",
   "execution_count": 44,
   "id": "96583ced-f0d0-4b08-983b-89241ed82bc0",
   "metadata": {},
   "outputs": [
    {
     "data": {
      "text/html": [
       "<div>\n",
       "<style scoped>\n",
       "    .dataframe tbody tr th:only-of-type {\n",
       "        vertical-align: middle;\n",
       "    }\n",
       "\n",
       "    .dataframe tbody tr th {\n",
       "        vertical-align: top;\n",
       "    }\n",
       "\n",
       "    .dataframe thead th {\n",
       "        text-align: right;\n",
       "    }\n",
       "</style>\n",
       "<table border=\"1\" class=\"dataframe\">\n",
       "  <thead>\n",
       "    <tr style=\"text-align: right;\">\n",
       "      <th></th>\n",
       "      <th>ID</th>\n",
       "      <th>Age</th>\n",
       "      <th>Salary</th>\n",
       "      <th>Experience_Years</th>\n",
       "    </tr>\n",
       "  </thead>\n",
       "  <tbody>\n",
       "    <tr>\n",
       "      <th>0</th>\n",
       "      <td>1</td>\n",
       "      <td>56</td>\n",
       "      <td>33392</td>\n",
       "      <td>3</td>\n",
       "    </tr>\n",
       "    <tr>\n",
       "      <th>1</th>\n",
       "      <td>2</td>\n",
       "      <td>46</td>\n",
       "      <td>55535</td>\n",
       "      <td>10</td>\n",
       "    </tr>\n",
       "    <tr>\n",
       "      <th>2</th>\n",
       "      <td>3</td>\n",
       "      <td>32</td>\n",
       "      <td>103603</td>\n",
       "      <td>16</td>\n",
       "    </tr>\n",
       "    <tr>\n",
       "      <th>3</th>\n",
       "      <td>4</td>\n",
       "      <td>25</td>\n",
       "      <td>77256</td>\n",
       "      <td>5</td>\n",
       "    </tr>\n",
       "    <tr>\n",
       "      <th>4</th>\n",
       "      <td>5</td>\n",
       "      <td>38</td>\n",
       "      <td>114135</td>\n",
       "      <td>4</td>\n",
       "    </tr>\n",
       "    <tr>\n",
       "      <th>...</th>\n",
       "      <td>...</td>\n",
       "      <td>...</td>\n",
       "      <td>...</td>\n",
       "      <td>...</td>\n",
       "    </tr>\n",
       "    <tr>\n",
       "      <th>95</th>\n",
       "      <td>96</td>\n",
       "      <td>59</td>\n",
       "      <td>80680</td>\n",
       "      <td>0</td>\n",
       "    </tr>\n",
       "    <tr>\n",
       "      <th>96</th>\n",
       "      <td>97</td>\n",
       "      <td>56</td>\n",
       "      <td>71717</td>\n",
       "      <td>14</td>\n",
       "    </tr>\n",
       "    <tr>\n",
       "      <th>97</th>\n",
       "      <td>98</td>\n",
       "      <td>58</td>\n",
       "      <td>112092</td>\n",
       "      <td>0</td>\n",
       "    </tr>\n",
       "    <tr>\n",
       "      <th>98</th>\n",
       "      <td>99</td>\n",
       "      <td>45</td>\n",
       "      <td>75859</td>\n",
       "      <td>4</td>\n",
       "    </tr>\n",
       "    <tr>\n",
       "      <th>99</th>\n",
       "      <td>100</td>\n",
       "      <td>24</td>\n",
       "      <td>51309</td>\n",
       "      <td>15</td>\n",
       "    </tr>\n",
       "  </tbody>\n",
       "</table>\n",
       "<p>100 rows × 4 columns</p>\n",
       "</div>"
      ],
      "text/plain": [
       "     ID  Age  Salary  Experience_Years\n",
       "0     1   56   33392                 3\n",
       "1     2   46   55535                10\n",
       "2     3   32  103603                16\n",
       "3     4   25   77256                 5\n",
       "4     5   38  114135                 4\n",
       "..  ...  ...     ...               ...\n",
       "95   96   59   80680                 0\n",
       "96   97   56   71717                14\n",
       "97   98   58  112092                 0\n",
       "98   99   45   75859                 4\n",
       "99  100   24   51309                15\n",
       "\n",
       "[100 rows x 4 columns]"
      ]
     },
     "execution_count": 44,
     "metadata": {},
     "output_type": "execute_result"
    }
   ],
   "source": [
    "df=pd.read_csv('employee_data.csv')\n",
    "df"
   ]
  },
  {
   "cell_type": "code",
   "execution_count": 45,
   "id": "00ec5d58-8baf-4c9b-8ae9-95e67d65bfb3",
   "metadata": {},
   "outputs": [
    {
     "name": "stdout",
     "output_type": "stream",
     "text": [
      "Avg age = 37.91\n"
     ]
    },
    {
     "data": {
      "text/html": [
       "<div>\n",
       "<style scoped>\n",
       "    .dataframe tbody tr th:only-of-type {\n",
       "        vertical-align: middle;\n",
       "    }\n",
       "\n",
       "    .dataframe tbody tr th {\n",
       "        vertical-align: top;\n",
       "    }\n",
       "\n",
       "    .dataframe thead th {\n",
       "        text-align: right;\n",
       "    }\n",
       "</style>\n",
       "<table border=\"1\" class=\"dataframe\">\n",
       "  <thead>\n",
       "    <tr style=\"text-align: right;\">\n",
       "      <th></th>\n",
       "      <th>ID</th>\n",
       "      <th>Age</th>\n",
       "      <th>Salary</th>\n",
       "      <th>Experience_Years</th>\n",
       "    </tr>\n",
       "  </thead>\n",
       "  <tbody>\n",
       "    <tr>\n",
       "      <th>0</th>\n",
       "      <td>1</td>\n",
       "      <td>56</td>\n",
       "      <td>33392</td>\n",
       "      <td>3</td>\n",
       "    </tr>\n",
       "    <tr>\n",
       "      <th>1</th>\n",
       "      <td>2</td>\n",
       "      <td>46</td>\n",
       "      <td>55535</td>\n",
       "      <td>10</td>\n",
       "    </tr>\n",
       "    <tr>\n",
       "      <th>2</th>\n",
       "      <td>3</td>\n",
       "      <td>32</td>\n",
       "      <td>103603</td>\n",
       "      <td>16</td>\n",
       "    </tr>\n",
       "    <tr>\n",
       "      <th>3</th>\n",
       "      <td>4</td>\n",
       "      <td>25</td>\n",
       "      <td>77256</td>\n",
       "      <td>5</td>\n",
       "    </tr>\n",
       "    <tr>\n",
       "      <th>4</th>\n",
       "      <td>5</td>\n",
       "      <td>38</td>\n",
       "      <td>114135</td>\n",
       "      <td>4</td>\n",
       "    </tr>\n",
       "    <tr>\n",
       "      <th>...</th>\n",
       "      <td>...</td>\n",
       "      <td>...</td>\n",
       "      <td>...</td>\n",
       "      <td>...</td>\n",
       "    </tr>\n",
       "    <tr>\n",
       "      <th>95</th>\n",
       "      <td>96</td>\n",
       "      <td>59</td>\n",
       "      <td>80680</td>\n",
       "      <td>0</td>\n",
       "    </tr>\n",
       "    <tr>\n",
       "      <th>96</th>\n",
       "      <td>97</td>\n",
       "      <td>56</td>\n",
       "      <td>71717</td>\n",
       "      <td>14</td>\n",
       "    </tr>\n",
       "    <tr>\n",
       "      <th>97</th>\n",
       "      <td>98</td>\n",
       "      <td>58</td>\n",
       "      <td>112092</td>\n",
       "      <td>0</td>\n",
       "    </tr>\n",
       "    <tr>\n",
       "      <th>98</th>\n",
       "      <td>99</td>\n",
       "      <td>45</td>\n",
       "      <td>75859</td>\n",
       "      <td>4</td>\n",
       "    </tr>\n",
       "    <tr>\n",
       "      <th>99</th>\n",
       "      <td>100</td>\n",
       "      <td>24</td>\n",
       "      <td>51309</td>\n",
       "      <td>15</td>\n",
       "    </tr>\n",
       "  </tbody>\n",
       "</table>\n",
       "<p>100 rows × 4 columns</p>\n",
       "</div>"
      ],
      "text/plain": [
       "     ID  Age  Salary  Experience_Years\n",
       "0     1   56   33392                 3\n",
       "1     2   46   55535                10\n",
       "2     3   32  103603                16\n",
       "3     4   25   77256                 5\n",
       "4     5   38  114135                 4\n",
       "..  ...  ...     ...               ...\n",
       "95   96   59   80680                 0\n",
       "96   97   56   71717                14\n",
       "97   98   58  112092                 0\n",
       "98   99   45   75859                 4\n",
       "99  100   24   51309                15\n",
       "\n",
       "[100 rows x 4 columns]"
      ]
     },
     "execution_count": 45,
     "metadata": {},
     "output_type": "execute_result"
    }
   ],
   "source": [
    "import numpy as np\n",
    "avg_age=np.mean(df['Age'])\n",
    "print('Avg age =' ,avg_age)\n",
    "df"
   ]
  },
  {
   "cell_type": "code",
   "execution_count": 46,
   "id": "77a0dafe-b5c3-4e55-bd92-b89256c7e4ce",
   "metadata": {},
   "outputs": [
    {
     "name": "stdout",
     "output_type": "stream",
     "text": [
      "Avg salary = 76067.13\n"
     ]
    },
    {
     "data": {
      "text/html": [
       "<div>\n",
       "<style scoped>\n",
       "    .dataframe tbody tr th:only-of-type {\n",
       "        vertical-align: middle;\n",
       "    }\n",
       "\n",
       "    .dataframe tbody tr th {\n",
       "        vertical-align: top;\n",
       "    }\n",
       "\n",
       "    .dataframe thead th {\n",
       "        text-align: right;\n",
       "    }\n",
       "</style>\n",
       "<table border=\"1\" class=\"dataframe\">\n",
       "  <thead>\n",
       "    <tr style=\"text-align: right;\">\n",
       "      <th></th>\n",
       "      <th>ID</th>\n",
       "      <th>Age</th>\n",
       "      <th>Salary</th>\n",
       "      <th>Experience_Years</th>\n",
       "    </tr>\n",
       "  </thead>\n",
       "  <tbody>\n",
       "    <tr>\n",
       "      <th>0</th>\n",
       "      <td>1</td>\n",
       "      <td>56</td>\n",
       "      <td>33392</td>\n",
       "      <td>3</td>\n",
       "    </tr>\n",
       "    <tr>\n",
       "      <th>1</th>\n",
       "      <td>2</td>\n",
       "      <td>46</td>\n",
       "      <td>55535</td>\n",
       "      <td>10</td>\n",
       "    </tr>\n",
       "    <tr>\n",
       "      <th>2</th>\n",
       "      <td>3</td>\n",
       "      <td>32</td>\n",
       "      <td>103603</td>\n",
       "      <td>16</td>\n",
       "    </tr>\n",
       "    <tr>\n",
       "      <th>3</th>\n",
       "      <td>4</td>\n",
       "      <td>25</td>\n",
       "      <td>77256</td>\n",
       "      <td>5</td>\n",
       "    </tr>\n",
       "    <tr>\n",
       "      <th>4</th>\n",
       "      <td>5</td>\n",
       "      <td>38</td>\n",
       "      <td>114135</td>\n",
       "      <td>4</td>\n",
       "    </tr>\n",
       "    <tr>\n",
       "      <th>...</th>\n",
       "      <td>...</td>\n",
       "      <td>...</td>\n",
       "      <td>...</td>\n",
       "      <td>...</td>\n",
       "    </tr>\n",
       "    <tr>\n",
       "      <th>95</th>\n",
       "      <td>96</td>\n",
       "      <td>59</td>\n",
       "      <td>80680</td>\n",
       "      <td>0</td>\n",
       "    </tr>\n",
       "    <tr>\n",
       "      <th>96</th>\n",
       "      <td>97</td>\n",
       "      <td>56</td>\n",
       "      <td>71717</td>\n",
       "      <td>14</td>\n",
       "    </tr>\n",
       "    <tr>\n",
       "      <th>97</th>\n",
       "      <td>98</td>\n",
       "      <td>58</td>\n",
       "      <td>112092</td>\n",
       "      <td>0</td>\n",
       "    </tr>\n",
       "    <tr>\n",
       "      <th>98</th>\n",
       "      <td>99</td>\n",
       "      <td>45</td>\n",
       "      <td>75859</td>\n",
       "      <td>4</td>\n",
       "    </tr>\n",
       "    <tr>\n",
       "      <th>99</th>\n",
       "      <td>100</td>\n",
       "      <td>24</td>\n",
       "      <td>51309</td>\n",
       "      <td>15</td>\n",
       "    </tr>\n",
       "  </tbody>\n",
       "</table>\n",
       "<p>100 rows × 4 columns</p>\n",
       "</div>"
      ],
      "text/plain": [
       "     ID  Age  Salary  Experience_Years\n",
       "0     1   56   33392                 3\n",
       "1     2   46   55535                10\n",
       "2     3   32  103603                16\n",
       "3     4   25   77256                 5\n",
       "4     5   38  114135                 4\n",
       "..  ...  ...     ...               ...\n",
       "95   96   59   80680                 0\n",
       "96   97   56   71717                14\n",
       "97   98   58  112092                 0\n",
       "98   99   45   75859                 4\n",
       "99  100   24   51309                15\n",
       "\n",
       "[100 rows x 4 columns]"
      ]
     },
     "execution_count": 46,
     "metadata": {},
     "output_type": "execute_result"
    }
   ],
   "source": [
    "avg_salary=np.mean(df['Salary'])\n",
    "print('Avg salary =' ,avg_salary)\n",
    "df"
   ]
  },
  {
   "cell_type": "code",
   "execution_count": 47,
   "id": "c3b2b0a9-d2ef-4212-a701-9be5286cc5b0",
   "metadata": {},
   "outputs": [
    {
     "name": "stdout",
     "output_type": "stream",
     "text": [
      "Median Salary =  77862.5\n"
     ]
    },
    {
     "data": {
      "text/html": [
       "<div>\n",
       "<style scoped>\n",
       "    .dataframe tbody tr th:only-of-type {\n",
       "        vertical-align: middle;\n",
       "    }\n",
       "\n",
       "    .dataframe tbody tr th {\n",
       "        vertical-align: top;\n",
       "    }\n",
       "\n",
       "    .dataframe thead th {\n",
       "        text-align: right;\n",
       "    }\n",
       "</style>\n",
       "<table border=\"1\" class=\"dataframe\">\n",
       "  <thead>\n",
       "    <tr style=\"text-align: right;\">\n",
       "      <th></th>\n",
       "      <th>ID</th>\n",
       "      <th>Age</th>\n",
       "      <th>Salary</th>\n",
       "      <th>Experience_Years</th>\n",
       "    </tr>\n",
       "  </thead>\n",
       "  <tbody>\n",
       "    <tr>\n",
       "      <th>0</th>\n",
       "      <td>1</td>\n",
       "      <td>56</td>\n",
       "      <td>33392</td>\n",
       "      <td>3</td>\n",
       "    </tr>\n",
       "    <tr>\n",
       "      <th>1</th>\n",
       "      <td>2</td>\n",
       "      <td>46</td>\n",
       "      <td>55535</td>\n",
       "      <td>10</td>\n",
       "    </tr>\n",
       "    <tr>\n",
       "      <th>2</th>\n",
       "      <td>3</td>\n",
       "      <td>32</td>\n",
       "      <td>103603</td>\n",
       "      <td>16</td>\n",
       "    </tr>\n",
       "    <tr>\n",
       "      <th>3</th>\n",
       "      <td>4</td>\n",
       "      <td>25</td>\n",
       "      <td>77256</td>\n",
       "      <td>5</td>\n",
       "    </tr>\n",
       "    <tr>\n",
       "      <th>4</th>\n",
       "      <td>5</td>\n",
       "      <td>38</td>\n",
       "      <td>114135</td>\n",
       "      <td>4</td>\n",
       "    </tr>\n",
       "    <tr>\n",
       "      <th>...</th>\n",
       "      <td>...</td>\n",
       "      <td>...</td>\n",
       "      <td>...</td>\n",
       "      <td>...</td>\n",
       "    </tr>\n",
       "    <tr>\n",
       "      <th>95</th>\n",
       "      <td>96</td>\n",
       "      <td>59</td>\n",
       "      <td>80680</td>\n",
       "      <td>0</td>\n",
       "    </tr>\n",
       "    <tr>\n",
       "      <th>96</th>\n",
       "      <td>97</td>\n",
       "      <td>56</td>\n",
       "      <td>71717</td>\n",
       "      <td>14</td>\n",
       "    </tr>\n",
       "    <tr>\n",
       "      <th>97</th>\n",
       "      <td>98</td>\n",
       "      <td>58</td>\n",
       "      <td>112092</td>\n",
       "      <td>0</td>\n",
       "    </tr>\n",
       "    <tr>\n",
       "      <th>98</th>\n",
       "      <td>99</td>\n",
       "      <td>45</td>\n",
       "      <td>75859</td>\n",
       "      <td>4</td>\n",
       "    </tr>\n",
       "    <tr>\n",
       "      <th>99</th>\n",
       "      <td>100</td>\n",
       "      <td>24</td>\n",
       "      <td>51309</td>\n",
       "      <td>15</td>\n",
       "    </tr>\n",
       "  </tbody>\n",
       "</table>\n",
       "<p>100 rows × 4 columns</p>\n",
       "</div>"
      ],
      "text/plain": [
       "     ID  Age  Salary  Experience_Years\n",
       "0     1   56   33392                 3\n",
       "1     2   46   55535                10\n",
       "2     3   32  103603                16\n",
       "3     4   25   77256                 5\n",
       "4     5   38  114135                 4\n",
       "..  ...  ...     ...               ...\n",
       "95   96   59   80680                 0\n",
       "96   97   56   71717                14\n",
       "97   98   58  112092                 0\n",
       "98   99   45   75859                 4\n",
       "99  100   24   51309                15\n",
       "\n",
       "[100 rows x 4 columns]"
      ]
     },
     "execution_count": 47,
     "metadata": {},
     "output_type": "execute_result"
    }
   ],
   "source": [
    "median_salary=np.median(df['Salary'])\n",
    "print('Median Salary = ',median_salary)\n",
    "df"
   ]
  },
  {
   "cell_type": "code",
   "execution_count": 48,
   "id": "08c6f340-a8dd-4e9b-ba9d-37a34539b3ef",
   "metadata": {},
   "outputs": [
    {
     "name": "stdout",
     "output_type": "stream",
     "text": [
      "Mode Experience= ModeResult(mode=15, count=13)\n"
     ]
    },
    {
     "data": {
      "text/html": [
       "<div>\n",
       "<style scoped>\n",
       "    .dataframe tbody tr th:only-of-type {\n",
       "        vertical-align: middle;\n",
       "    }\n",
       "\n",
       "    .dataframe tbody tr th {\n",
       "        vertical-align: top;\n",
       "    }\n",
       "\n",
       "    .dataframe thead th {\n",
       "        text-align: right;\n",
       "    }\n",
       "</style>\n",
       "<table border=\"1\" class=\"dataframe\">\n",
       "  <thead>\n",
       "    <tr style=\"text-align: right;\">\n",
       "      <th></th>\n",
       "      <th>ID</th>\n",
       "      <th>Age</th>\n",
       "      <th>Salary</th>\n",
       "      <th>Experience_Years</th>\n",
       "    </tr>\n",
       "  </thead>\n",
       "  <tbody>\n",
       "    <tr>\n",
       "      <th>0</th>\n",
       "      <td>1</td>\n",
       "      <td>56</td>\n",
       "      <td>33392</td>\n",
       "      <td>3</td>\n",
       "    </tr>\n",
       "    <tr>\n",
       "      <th>1</th>\n",
       "      <td>2</td>\n",
       "      <td>46</td>\n",
       "      <td>55535</td>\n",
       "      <td>10</td>\n",
       "    </tr>\n",
       "    <tr>\n",
       "      <th>2</th>\n",
       "      <td>3</td>\n",
       "      <td>32</td>\n",
       "      <td>103603</td>\n",
       "      <td>16</td>\n",
       "    </tr>\n",
       "    <tr>\n",
       "      <th>3</th>\n",
       "      <td>4</td>\n",
       "      <td>25</td>\n",
       "      <td>77256</td>\n",
       "      <td>5</td>\n",
       "    </tr>\n",
       "    <tr>\n",
       "      <th>4</th>\n",
       "      <td>5</td>\n",
       "      <td>38</td>\n",
       "      <td>114135</td>\n",
       "      <td>4</td>\n",
       "    </tr>\n",
       "    <tr>\n",
       "      <th>...</th>\n",
       "      <td>...</td>\n",
       "      <td>...</td>\n",
       "      <td>...</td>\n",
       "      <td>...</td>\n",
       "    </tr>\n",
       "    <tr>\n",
       "      <th>95</th>\n",
       "      <td>96</td>\n",
       "      <td>59</td>\n",
       "      <td>80680</td>\n",
       "      <td>0</td>\n",
       "    </tr>\n",
       "    <tr>\n",
       "      <th>96</th>\n",
       "      <td>97</td>\n",
       "      <td>56</td>\n",
       "      <td>71717</td>\n",
       "      <td>14</td>\n",
       "    </tr>\n",
       "    <tr>\n",
       "      <th>97</th>\n",
       "      <td>98</td>\n",
       "      <td>58</td>\n",
       "      <td>112092</td>\n",
       "      <td>0</td>\n",
       "    </tr>\n",
       "    <tr>\n",
       "      <th>98</th>\n",
       "      <td>99</td>\n",
       "      <td>45</td>\n",
       "      <td>75859</td>\n",
       "      <td>4</td>\n",
       "    </tr>\n",
       "    <tr>\n",
       "      <th>99</th>\n",
       "      <td>100</td>\n",
       "      <td>24</td>\n",
       "      <td>51309</td>\n",
       "      <td>15</td>\n",
       "    </tr>\n",
       "  </tbody>\n",
       "</table>\n",
       "<p>100 rows × 4 columns</p>\n",
       "</div>"
      ],
      "text/plain": [
       "     ID  Age  Salary  Experience_Years\n",
       "0     1   56   33392                 3\n",
       "1     2   46   55535                10\n",
       "2     3   32  103603                16\n",
       "3     4   25   77256                 5\n",
       "4     5   38  114135                 4\n",
       "..  ...  ...     ...               ...\n",
       "95   96   59   80680                 0\n",
       "96   97   56   71717                14\n",
       "97   98   58  112092                 0\n",
       "98   99   45   75859                 4\n",
       "99  100   24   51309                15\n",
       "\n",
       "[100 rows x 4 columns]"
      ]
     },
     "execution_count": 48,
     "metadata": {},
     "output_type": "execute_result"
    }
   ],
   "source": [
    "from scipy import stats\n",
    "mode_exp=stats.mode(df['Experience_Years'])\n",
    "print('Mode Experience=',mode_exp)\n",
    "df"
   ]
  },
  {
   "cell_type": "markdown",
   "id": "6bca21f4-2f9c-4d56-b767-921a1c2ef3c4",
   "metadata": {},
   "source": [
    "# Measure of Dispersion :"
   ]
  },
  {
   "cell_type": "code",
   "execution_count": 49,
   "id": "e565af4f-0868-43c9-bedd-d09fc38fead1",
   "metadata": {},
   "outputs": [
    {
     "data": {
      "text/html": [
       "<div>\n",
       "<style scoped>\n",
       "    .dataframe tbody tr th:only-of-type {\n",
       "        vertical-align: middle;\n",
       "    }\n",
       "\n",
       "    .dataframe tbody tr th {\n",
       "        vertical-align: top;\n",
       "    }\n",
       "\n",
       "    .dataframe thead th {\n",
       "        text-align: right;\n",
       "    }\n",
       "</style>\n",
       "<table border=\"1\" class=\"dataframe\">\n",
       "  <thead>\n",
       "    <tr style=\"text-align: right;\">\n",
       "      <th></th>\n",
       "      <th>Student</th>\n",
       "      <th>Score</th>\n",
       "    </tr>\n",
       "  </thead>\n",
       "  <tbody>\n",
       "    <tr>\n",
       "      <th>0</th>\n",
       "      <td>A</td>\n",
       "      <td>45</td>\n",
       "    </tr>\n",
       "    <tr>\n",
       "      <th>1</th>\n",
       "      <td>B</td>\n",
       "      <td>60</td>\n",
       "    </tr>\n",
       "    <tr>\n",
       "      <th>2</th>\n",
       "      <td>C</td>\n",
       "      <td>72</td>\n",
       "    </tr>\n",
       "    <tr>\n",
       "      <th>3</th>\n",
       "      <td>D</td>\n",
       "      <td>50</td>\n",
       "    </tr>\n",
       "    <tr>\n",
       "      <th>4</th>\n",
       "      <td>E</td>\n",
       "      <td>90</td>\n",
       "    </tr>\n",
       "    <tr>\n",
       "      <th>5</th>\n",
       "      <td>F</td>\n",
       "      <td>55</td>\n",
       "    </tr>\n",
       "    <tr>\n",
       "      <th>6</th>\n",
       "      <td>G</td>\n",
       "      <td>65</td>\n",
       "    </tr>\n",
       "    <tr>\n",
       "      <th>7</th>\n",
       "      <td>H</td>\n",
       "      <td>80</td>\n",
       "    </tr>\n",
       "    <tr>\n",
       "      <th>8</th>\n",
       "      <td>I</td>\n",
       "      <td>95</td>\n",
       "    </tr>\n",
       "    <tr>\n",
       "      <th>9</th>\n",
       "      <td>J</td>\n",
       "      <td>70</td>\n",
       "    </tr>\n",
       "  </tbody>\n",
       "</table>\n",
       "</div>"
      ],
      "text/plain": [
       "  Student  Score\n",
       "0       A     45\n",
       "1       B     60\n",
       "2       C     72\n",
       "3       D     50\n",
       "4       E     90\n",
       "5       F     55\n",
       "6       G     65\n",
       "7       H     80\n",
       "8       I     95\n",
       "9       J     70"
      ]
     },
     "execution_count": 49,
     "metadata": {},
     "output_type": "execute_result"
    }
   ],
   "source": [
    "import pandas as pd\n",
    "df=pd.read_csv('students_scores.csv')\n",
    "df"
   ]
  },
  {
   "cell_type": "code",
   "execution_count": 65,
   "id": "967d3f97-2767-4109-81c0-6b97a3db7804",
   "metadata": {},
   "outputs": [
    {
     "data": {
      "text/plain": [
       "95"
      ]
     },
     "execution_count": 65,
     "metadata": {},
     "output_type": "execute_result"
    }
   ],
   "source": [
    "# min value\n",
    "minimum=df['Score'].min()\n",
    "minimum\n",
    "maximum=df['Score'].max()\n",
    "maximum\n",
    "#mean_score=np.mean(df['Score'])\n",
    "#range_of_data=maximum-minimum\n",
    "#range_of_data"
   ]
  },
  {
   "cell_type": "code",
   "execution_count": 51,
   "id": "723edbf7-bfb0-437b-8c63-eb17fba10daf",
   "metadata": {},
   "outputs": [
    {
     "data": {
      "text/plain": [
       "340.0"
      ]
     },
     "execution_count": 51,
     "metadata": {},
     "output_type": "execute_result"
    }
   ],
   "source": [
    "Data_A=[60,62,65,63,64] # less spread\n",
    "Data_B=[40,50,65,80,90] # more spread\n",
    "mean_score_A=np.mean(Data_A) #62.8  #65\n",
    "mean_score_B=np.mean(Data_B) #65    #65\n",
    "mean_score_A\n",
    "mean_score_B\n",
    "variance_A=np.var(Data_A) #2.96\n",
    "variance_A\n",
    "variance_B=np.var(Data_B)#340.0\n",
    "variance_B"
   ]
  },
  {
   "cell_type": "code",
   "execution_count": 52,
   "id": "4600dd2d-b6b7-4637-a83e-462b0782a785",
   "metadata": {},
   "outputs": [
    {
     "data": {
      "image/png": "[encoded data removed]",
      "text/plain": [
       "<Figure size 640x480 with 1 Axes>"
      ]
     },
     "metadata": {},
     "output_type": "display_data"
    }
   ],
   "source": [
    "import matplotlib.pyplot as plt\n",
    "Data_A=[60,62,65,63,64]\n",
    "student_A=['Rahul','Priya','Sam','Jayant','Shruti']\n",
    "Data_B=[40,50,65,80,90]\n",
    "mean_score_A=np.mean(Data_A)\n",
    "mean_score_B=np.mean(Data_B)\n",
    "variance_A=np.var(Data_A)\n",
    "variance_B=np.var(Data_B)\n",
    "plt.bar(Data_A,student_A,color='skyblue',edgecolor='black')\n",
    "plt.show()"
   ]
  },
  {
   "cell_type": "code",
   "execution_count": 94,
   "id": "b8ac4848-31d9-466a-884f-c3ab984653bd",
   "metadata": {},
   "outputs": [
    {
     "data": {
      "image/png": "[encoded data removed]",
      "text/plain": [
       "<Figure size 640x480 with 1 Axes>"
      ]
     },
     "metadata": {},
     "output_type": "display_data"
    }
   ],
   "source": [
    "df=pd.read_csv('students_scores.csv')\n",
    "mean_score=np.mean(df['Score'])\n",
    "variance_score=np.var(df['Score'])\n",
    "plt.bar(df['Student'],df['Score'],color='skyblue',edgecolor='black')\n",
    "plt.axvline(mean_score,color='Red',linestyle='--',linewidth=2)\n",
    "plt.show()"
   ]
  },
  {
   "cell_type": "code",
   "execution_count": 61,
   "id": "070b123d-0a9a-4f18-9d08-713bc8018b87",
   "metadata": {},
   "outputs": [
    {
     "data": {
      "text/plain": [
       "15.721323099535866"
      ]
     },
     "execution_count": 61,
     "metadata": {},
     "output_type": "execute_result"
    }
   ],
   "source": [
    "import numpy as np\n",
    "df=pd.read_csv('students_scores.csv')\n",
    "sd_score=np.std(df['Score'])\n",
    "sd_score"
   ]
  },
  {
   "cell_type": "code",
   "execution_count": 62,
   "id": "a7f7de1d-71f2-46a0-8a20-2aa0b2751551",
   "metadata": {},
   "outputs": [
    {
     "data": {
      "text/html": [
       "<div>\n",
       "<style scoped>\n",
       "    .dataframe tbody tr th:only-of-type {\n",
       "        vertical-align: middle;\n",
       "    }\n",
       "\n",
       "    .dataframe tbody tr th {\n",
       "        vertical-align: top;\n",
       "    }\n",
       "\n",
       "    .dataframe thead th {\n",
       "        text-align: right;\n",
       "    }\n",
       "</style>\n",
       "<table border=\"1\" class=\"dataframe\">\n",
       "  <thead>\n",
       "    <tr style=\"text-align: right;\">\n",
       "      <th></th>\n",
       "      <th>Score</th>\n",
       "    </tr>\n",
       "  </thead>\n",
       "  <tbody>\n",
       "    <tr>\n",
       "      <th>count</th>\n",
       "      <td>10.00000</td>\n",
       "    </tr>\n",
       "    <tr>\n",
       "      <th>mean</th>\n",
       "      <td>68.20000</td>\n",
       "    </tr>\n",
       "    <tr>\n",
       "      <th>std</th>\n",
       "      <td>16.57173</td>\n",
       "    </tr>\n",
       "    <tr>\n",
       "      <th>min</th>\n",
       "      <td>45.00000</td>\n",
       "    </tr>\n",
       "    <tr>\n",
       "      <th>25%</th>\n",
       "      <td>56.25000</td>\n",
       "    </tr>\n",
       "    <tr>\n",
       "      <th>50%</th>\n",
       "      <td>67.50000</td>\n",
       "    </tr>\n",
       "    <tr>\n",
       "      <th>75%</th>\n",
       "      <td>78.00000</td>\n",
       "    </tr>\n",
       "    <tr>\n",
       "      <th>max</th>\n",
       "      <td>95.00000</td>\n",
       "    </tr>\n",
       "  </tbody>\n",
       "</table>\n",
       "</div>"
      ],
      "text/plain": [
       "          Score\n",
       "count  10.00000\n",
       "mean   68.20000\n",
       "std    16.57173\n",
       "min    45.00000\n",
       "25%    56.25000\n",
       "50%    67.50000\n",
       "75%    78.00000\n",
       "max    95.00000"
      ]
     },
     "execution_count": 62,
     "metadata": {},
     "output_type": "execute_result"
    }
   ],
   "source": [
    "df.describe()"
   ]
  },
  {
   "cell_type": "markdown",
   "id": "8c293148-ab4b-4710-aff3-93218c4702fa",
   "metadata": {},
   "source": [
    "# IQR : Inter Quartile Range "
   ]
  },
  {
   "cell_type": "code",
   "execution_count": 76,
   "id": "b675e317-7633-4bce-8ea8-b4860de9a694",
   "metadata": {},
   "outputs": [
    {
     "data": {
      "text/plain": [
       "0       5\n",
       "10    200\n",
       "dtype: int64"
      ]
     },
     "execution_count": 76,
     "metadata": {},
     "output_type": "execute_result"
    }
   ],
   "source": [
    "# IQR -\n",
    "scores=[5,40,45,50,55,60,65,70,80,95,200]\n",
    "\n",
    "# Convert to dataframe\n",
    "data =pd.Series(scores)\n",
    "data\n",
    "\n",
    "# calculate quartiles\n",
    "Q1 = data.quantile(0.25) # 50\n",
    "Q2 = data.quantile(0.50) # 60\n",
    "Q3 = data.quantile(0.75) # 70\n",
    "Q1\n",
    "\n",
    "# calculate IQR\n",
    "IQR=Q3-Q1 # 20\n",
    "IQR\n",
    "\n",
    "lower_bound=Q1-1.5*IQR # 20\n",
    "upper_bound=Q3+1.5*IQR # 100\n",
    "\n",
    "# Outliers\n",
    "outliers = data[(data<lower_bound) | (data>upper_bound)]\n",
    "outliers"
   ]
  },
  {
   "cell_type": "code",
   "execution_count": 92,
   "id": "2c7c2ada-bb6f-44b9-bba8-89b1552dbf9e",
   "metadata": {},
   "outputs": [
    {
     "name": "stdout",
     "output_type": "stream",
     "text": [
      "Skewness of age -0.16152552288469066\n"
     ]
    },
    {
     "data": {
      "image/png": "[encoded data removed]",
      "text/plain": [
       "<Figure size 640x480 with 1 Axes>"
      ]
     },
     "metadata": {},
     "output_type": "display_data"
    }
   ],
   "source": [
    "import numpy as np\n",
    "from scipy.stats import skew\n",
    "df=pd.read_csv('employee_finance_data.csv')\n",
    "df\n",
    "#take age column\n",
    "ages=df['Age']\n",
    "\n",
    "# Check skewness\n",
    "print('Skewness of age', skew(ages))\n",
    "\n",
    "# plot Histogram\n",
    "#histogram\n",
    "plt.hist(ages,bins=15,edgecolor='black',color='skyblue')\n",
    "plt.axvline(ages.mean(),color='Red',linestyle='--',linewidth=2)\n",
    "plt.axvline(ages.median(),color='Green',linestyle='--',linewidth=2)\n",
    "plt.xlabel('ages')\n",
    "plt.ylabel('frequency')\n",
    "plt.title('Histogram of ages (bins 15)')\n",
    "plt.show()\n"
   ]
  },
  {
   "cell_type": "code",
   "execution_count": 7,
   "id": "d4cc921e-fbff-4bca-8ef0-5d1234e79000",
   "metadata": {},
   "outputs": [
    {
     "name": "stdout",
     "output_type": "stream",
     "text": [
      "1.4685061617735484\n"
     ]
    },
    {
     "data": {
      "image/png": "[encoded data removed]",
      "text/plain": [
       "<Figure size 640x480 with 1 Axes>"
      ]
     },
     "metadata": {},
     "output_type": "display_data"
    }
   ],
   "source": [
    "#30 August - positive skewness \n",
    "import pandas as pd\n",
    "import matplotlib.pyplot as plt\n",
    "from scipy.stats import skew\n",
    "df=pd.read_csv('employee_finance_data.csv')\n",
    "income=df['Monthly_Income']\n",
    "print(skew(income))\n",
    "df\n",
    "plt.hist(income,bins=15,color='skyblue',edgecolor='black')\n",
    "plt.xlabel('Income')\n",
    "plt.ylabel('Age')\n",
    "plt.axvline(income.mean(),color=\"black\",linestyle=\"--\",linewidth=2)\n",
    "plt.axvline(income.median(),color=\"red\",linestyle=\"--\",linewidth=2)\n",
    "plt.show()"
   ]
  },
  {
   "cell_type": "code",
   "execution_count": 10,
   "id": "67632ff2-7366-4e1a-8e47-7e1739422f81",
   "metadata": {},
   "outputs": [
    {
     "name": "stdout",
     "output_type": "stream",
     "text": [
      "-1.1970864173035511\n"
     ]
    },
    {
     "data": {
      "image/png": "[encoded data removed]",
      "text/plain": [
       "<Figure size 640x480 with 1 Axes>"
      ]
     },
     "metadata": {},
     "output_type": "display_data"
    }
   ],
   "source": [
    "#negative skewness\n",
    "import numpy as np\n",
    "ages=np.array([75,78,80,81,82,84,85,87,89,90,92,93,95,96,100,25,30,31,36])\n",
    "print(skew(ages))\n",
    "plt.hist(ages,bins=15,color='skyblue',edgecolor='black')\n",
    "plt.axvline(ages.mean(),color=\"red\",linestyle=\"--\",linewidth=2)\n",
    "#plt.axvline(income.median(),color=\"red\",linestyle=\"--\",linewidth=2)\n",
    "plt.show()"
   ]
  },
  {
   "cell_type": "code",
   "execution_count": 24,
   "id": "a0b7ee5f-0c4b-45f8-9ae0-d2a9efad32ce",
   "metadata": {},
   "outputs": [
    {
     "data": {
      "text/html": [
       "<div>\n",
       "<style scoped>\n",
       "    .dataframe tbody tr th:only-of-type {\n",
       "        vertical-align: middle;\n",
       "    }\n",
       "\n",
       "    .dataframe tbody tr th {\n",
       "        vertical-align: top;\n",
       "    }\n",
       "\n",
       "    .dataframe thead th {\n",
       "        text-align: right;\n",
       "    }\n",
       "</style>\n",
       "<table border=\"1\" class=\"dataframe\">\n",
       "  <thead>\n",
       "    <tr style=\"text-align: right;\">\n",
       "      <th></th>\n",
       "      <th>Normal_Distribution</th>\n",
       "      <th>Heavy_Tailed</th>\n",
       "      <th>Flat_Distribution</th>\n",
       "    </tr>\n",
       "  </thead>\n",
       "  <tbody>\n",
       "    <tr>\n",
       "      <th>0</th>\n",
       "      <td>39.143694</td>\n",
       "      <td>56.624598</td>\n",
       "      <td>64.160397</td>\n",
       "    </tr>\n",
       "    <tr>\n",
       "      <th>1</th>\n",
       "      <td>59.973454</td>\n",
       "      <td>39.808648</td>\n",
       "      <td>30.227261</td>\n",
       "    </tr>\n",
       "    <tr>\n",
       "      <th>2</th>\n",
       "      <td>52.829785</td>\n",
       "      <td>41.878205</td>\n",
       "      <td>61.356057</td>\n",
       "    </tr>\n",
       "    <tr>\n",
       "      <th>3</th>\n",
       "      <td>34.937053</td>\n",
       "      <td>55.101900</td>\n",
       "      <td>51.438807</td>\n",
       "    </tr>\n",
       "    <tr>\n",
       "      <th>4</th>\n",
       "      <td>44.213997</td>\n",
       "      <td>58.891831</td>\n",
       "      <td>47.494050</td>\n",
       "    </tr>\n",
       "    <tr>\n",
       "      <th>...</th>\n",
       "      <td>...</td>\n",
       "      <td>...</td>\n",
       "      <td>...</td>\n",
       "    </tr>\n",
       "    <tr>\n",
       "      <th>995</th>\n",
       "      <td>56.347631</td>\n",
       "      <td>49.925981</td>\n",
       "      <td>50.394537</td>\n",
       "    </tr>\n",
       "    <tr>\n",
       "      <th>996</th>\n",
       "      <td>60.699186</td>\n",
       "      <td>49.296121</td>\n",
       "      <td>69.274481</td>\n",
       "    </tr>\n",
       "    <tr>\n",
       "      <th>997</th>\n",
       "      <td>40.906730</td>\n",
       "      <td>35.633997</td>\n",
       "      <td>39.293394</td>\n",
       "    </tr>\n",
       "    <tr>\n",
       "      <th>998</th>\n",
       "      <td>54.702637</td>\n",
       "      <td>36.208604</td>\n",
       "      <td>48.237210</td>\n",
       "    </tr>\n",
       "    <tr>\n",
       "      <th>999</th>\n",
       "      <td>38.885696</td>\n",
       "      <td>59.051460</td>\n",
       "      <td>62.300532</td>\n",
       "    </tr>\n",
       "  </tbody>\n",
       "</table>\n",
       "<p>1000 rows × 3 columns</p>\n",
       "</div>"
      ],
      "text/plain": [
       "     Normal_Distribution  Heavy_Tailed  Flat_Distribution\n",
       "0              39.143694     56.624598          64.160397\n",
       "1              59.973454     39.808648          30.227261\n",
       "2              52.829785     41.878205          61.356057\n",
       "3              34.937053     55.101900          51.438807\n",
       "4              44.213997     58.891831          47.494050\n",
       "..                   ...           ...                ...\n",
       "995            56.347631     49.925981          50.394537\n",
       "996            60.699186     49.296121          69.274481\n",
       "997            40.906730     35.633997          39.293394\n",
       "998            54.702637     36.208604          48.237210\n",
       "999            38.885696     59.051460          62.300532\n",
       "\n",
       "[1000 rows x 3 columns]"
      ]
     },
     "execution_count": 24,
     "metadata": {},
     "output_type": "execute_result"
    }
   ],
   "source": [
    "#kurtosis\n",
    "import pandas as pd\n",
    "import matplotlib.pyplot as plt\n",
    "from scipy.stats import skew, kurtosis\n",
    "\n",
    "df=pd.read_csv('kurtosis_demo_data.csv')\n",
    "df"
   ]
  },
  {
   "cell_type": "code",
   "execution_count": 18,
   "id": "a24d2156-0471-4051-bdd3-1036b9be68cc",
   "metadata": {},
   "outputs": [
    {
     "data": {
      "image/png": "[encoded data removed]",
      "text/plain": [
       "<Figure size 640x480 with 1 Axes>"
      ]
     },
     "metadata": {},
     "output_type": "display_data"
    }
   ],
   "source": [
    "#kurtosis\n",
    "import pandas as pd\n",
    "import matplotlib.pyplot as plt\n",
    "from scipy.stats import skew, kurtosis\n",
    "\n",
    "df=pd.read_csv('kurtosis_demo_data.csv')\n",
    "x=df['Normal_Distribution']\n",
    "mean_val=np.mean(x) #49.60\n",
    "std_val=np.std(x) #10.00\n",
    "#mean_val\n",
    "#std_val\n",
    "\n",
    "ex_kurt=kurtosis(x)\n",
    "ex_kurt #-0.02\n",
    "\n",
    "plt.hist(x,bins=15,color='skyblue',edgecolor='black')\n",
    "plt.show()"
   ]
  },
  {
   "cell_type": "code",
   "execution_count": 23,
   "id": "b0d1b073-a439-4c01-add2-6fa8c16170d9",
   "metadata": {},
   "outputs": [
    {
     "data": {
      "image/png": "[encoded data removed]",
      "text/plain": [
       "<Figure size 640x480 with 1 Axes>"
      ]
     },
     "metadata": {},
     "output_type": "display_data"
    }
   ],
   "source": [
    "import pandas as pd\n",
    "import matplotlib.pyplot as plt\n",
    "from scipy.stats import skew, kurtosis\n",
    "\n",
    "df=pd.read_csv('kurtosis_demo_data.csv')\n",
    "x=df['Heavy_Tailed']\n",
    "mean_val=np.mean(x) \n",
    "std_val=np.std(x) \n",
    "#mean_val #50.04\n",
    "#std_val #14.19\n",
    "\n",
    "ex_kurt=kurtosis(x)\n",
    "ex_kurt #3.57\n",
    "\n",
    "plt.hist(x,bins=15,color='pink',edgecolor='black')\n",
    "plt.show()"
   ]
  },
  {
   "cell_type": "code",
   "execution_count": 29,
   "id": "fd9d473d-6a7a-4bf4-96a8-9a3ebd17fcfe",
   "metadata": {},
   "outputs": [
    {
     "data": {
      "image/png": "[encoded data removed]",
      "text/plain": [
       "<Figure size 640x480 with 1 Axes>"
      ]
     },
     "metadata": {},
     "output_type": "display_data"
    }
   ],
   "source": [
    "import pandas as pd\n",
    "import matplotlib.pyplot as plt\n",
    "from scipy.stats import skew, kurtosis\n",
    "\n",
    "df=pd.read_csv('kurtosis_demo_data.csv')\n",
    "x=df['Flat_Distribution']\n",
    "mean_val=np.mean(x) \n",
    "std_val=np.std(x) \n",
    "#mean_val #50.01\n",
    "#std_val #11.57\n",
    "\n",
    "ex_kurt=kurtosis(x)\n",
    "ex_kurt #-1.19\n",
    "\n",
    "plt.hist(x,bins=15,color='orange',edgecolor='black')\n",
    "plt.show()"
   ]
  },
  {
   "cell_type": "code",
   "execution_count": null,
   "id": "5f1097b1-1a3d-48e7-b9eb-85a0cf77af61",
   "metadata": {},
   "outputs": [],
   "source": []
  }
 ],
 "metadata": {
  "kernelspec": {
   "display_name": "Python 3 (ipykernel)",
   "language": "python",
   "name": "python3"
  },
  "language_info": {
   "codemirror_mode": {
    "name": "ipython",
    "version": 3
   },
   "file_extension": ".py",
   "mimetype": "text/x-python",
   "name": "python",
   "nbconvert_exporter": "python",
   "pygments_lexer": "ipython3",
   "version": "3.13.7"
  }
 },
 "nbformat": 4,
 "nbformat_minor": 5
}
